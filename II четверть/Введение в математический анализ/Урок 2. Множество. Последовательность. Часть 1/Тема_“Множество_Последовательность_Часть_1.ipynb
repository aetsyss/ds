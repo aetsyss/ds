{
  "nbformat": 4,
  "nbformat_minor": 0,
  "metadata": {
    "colab": {
      "name": "Тема “Множество. Последовательность.Часть 1",
      "provenance": []
    },
    "kernelspec": {
      "name": "python3",
      "display_name": "Python 3"
    },
    "language_info": {
      "name": "python"
    }
  },
  "cells": [
    {
      "cell_type": "markdown",
      "metadata": {
        "id": "YseIoR2OFPxk"
      },
      "source": [
        "# Тема “Множество. Последовательность.Часть 1”"
      ]
    },
    {
      "cell_type": "markdown",
      "metadata": {
        "id": "kcyXEGjkFS30"
      },
      "source": [
        "### Прочитать высказывания математической логики, построить их отрицания и установить истинность."
      ]
    },
    {
      "cell_type": "markdown",
      "metadata": {
        "id": "ZulzRUKrIsO0"
      },
      "source": [
        "\n",
        "\n",
        "---\n",
        "\n"
      ]
    },
    {
      "cell_type": "markdown",
      "metadata": {
        "id": "5MIfKx0HFjM6"
      },
      "source": [
        "$\\forall n \\in \\mathbb{N} > 2 : \\exists x,y,z \\in \\mathbb{N} : x^n = y^n + z^n$"
      ]
    },
    {
      "cell_type": "markdown",
      "metadata": {
        "id": "97DXx3kPHxfx"
      },
      "source": [
        "Для любого n приналдежащего $\\mathbb{N}$ существуют такие x, y и z, принадлежащие $\\mathbb{N}$, что $x^n = y^n + z^n$[link text](https://)"
      ]
    },
    {
      "cell_type": "markdown",
      "metadata": {
        "id": "qenHktkwIRmZ"
      },
      "source": [
        "Высказывание является **ложным** по определению степени."
      ]
    },
    {
      "cell_type": "markdown",
      "metadata": {
        "id": "7r8rneZ0I3B0"
      },
      "source": [
        "Построим отрицание: $\\exists n \\in \\mathbb{N} > 2 : \\exists x,y,z \\in \\mathbb{N} : x^n \\neq y^n + z^n$"
      ]
    },
    {
      "cell_type": "markdown",
      "metadata": {
        "id": "EWSexjzrJV1C"
      },
      "source": [
        "Существует n из $\\mathbb{N}$ такое, что существуют такие x, y и z, что $x^n \\neq y^n + z^n$"
      ]
    },
    {
      "cell_type": "markdown",
      "metadata": {
        "id": "kJiipU42JyJU"
      },
      "source": [
        "Утверждение истино, тк при n = 1, x = 1, y = 1, z = 1: 1 $\\neq$ 1 + 1"
      ]
    },
    {
      "cell_type": "markdown",
      "metadata": {
        "id": "51MrDgAxKL22"
      },
      "source": [
        "**Ответ**: текущее высказывание ложное"
      ]
    },
    {
      "cell_type": "markdown",
      "metadata": {
        "id": "E5EUYAbRKZP6"
      },
      "source": [
        "\n",
        "\n",
        "---\n",
        "\n"
      ]
    },
    {
      "cell_type": "markdown",
      "metadata": {
        "id": "7Gdic7oWKd2h"
      },
      "source": [
        "$\\forall x \\in \\mathbb{R} \\exists X \\in \\mathbb{R} : X > x$"
      ]
    },
    {
      "cell_type": "markdown",
      "metadata": {
        "id": "KrdcsDrSNFd-"
      },
      "source": [
        "Для любого $x$ принадлежащего $\\mathbb{R}$ сущесвуют такие X принадлежащие $\\mathbb{R}$ что $X>x$"
      ]
    },
    {
      "cell_type": "markdown",
      "metadata": {
        "id": "gHVSg4fqOCPQ"
      },
      "source": [
        "Высказывание является **истиным** из определения множенства вещесвтенных чисел."
      ]
    },
    {
      "cell_type": "markdown",
      "metadata": {
        "id": "1DreqHUaOSwb"
      },
      "source": [
        "Построим отрицание: $\\exists x \\in \\mathbb{R} \\forall X \\in \\mathbb{R}: X \\leq x$"
      ]
    },
    {
      "cell_type": "markdown",
      "metadata": {
        "id": "_fV644iFPDA0"
      },
      "source": [
        "Утверждение ложно, тк не сущетсвует таких $x$ которые является больше всех других сущесвующих элементов $\\mathbb{R}$"
      ]
    },
    {
      "cell_type": "markdown",
      "metadata": {
        "id": "DKqd8yZXPv-9"
      },
      "source": [
        "**Ответ**: текущее высказывание истиное"
      ]
    },
    {
      "cell_type": "markdown",
      "metadata": {
        "id": "fIxt-0xeP8_R"
      },
      "source": [
        "\n",
        "\n",
        "---\n",
        "\n"
      ]
    },
    {
      "cell_type": "markdown",
      "metadata": {
        "id": "e9Xf8wv-Qqaz"
      },
      "source": [
        "$\\forall x \\in \\mathbb{C} \\nexists y \\in \\mathbb{C} : x > y || x < y$"
      ]
    },
    {
      "cell_type": "markdown",
      "metadata": {
        "id": "9P2PBeuVQ8hN"
      },
      "source": [
        "Для любого $x$ принадлежащему $\\mathbb{C}$ не сущесвтует ни одного $y$ принадлежащего $\\mathbb{C}$ такого что $x > y || x < y$"
      ]
    },
    {
      "cell_type": "markdown",
      "metadata": {
        "id": "hF5ZMzuCRuC3"
      },
      "source": [
        "Высказывание является **ложным** из определения множества комплексных чисел."
      ]
    },
    {
      "cell_type": "markdown",
      "metadata": {
        "id": "RVikoa3kSLES"
      },
      "source": [
        "Построим отрицание: $\\exists x \\in \\mathbb{C} \\nexists y \\in \\mathbb{C} : x \\leq y \\wedge x \\geq y$"
      ]
    },
    {
      "cell_type": "markdown",
      "metadata": {
        "id": "V54AFjPbTj8g"
      },
      "source": [
        "Уверждение ложно, тк при $x = y$ данное неравенство выполняется."
      ]
    },
    {
      "cell_type": "markdown",
      "metadata": {
        "id": "V8-hZFOETx-5"
      },
      "source": [
        "**Ответ**: текущее высказывание ложное"
      ]
    },
    {
      "cell_type": "markdown",
      "metadata": {
        "id": "HDQtSgQtTy1e"
      },
      "source": [
        "\n",
        "\n",
        "---\n",
        "\n"
      ]
    },
    {
      "cell_type": "markdown",
      "metadata": {
        "id": "Cd1J6-F_UHGI"
      },
      "source": [
        "$\\forall y \\in [0 ; \\frac{\\pi}{2}] \\exists \\epsilon > 0 : \\sin y < \\sin (y + \\epsilon)$"
      ]
    },
    {
      "cell_type": "markdown",
      "metadata": {
        "id": "82xS1_sBWmd2"
      },
      "source": [
        "Для любого $y$ из указанного промежутка существует такое $\\epsilon$ что $\\sin y < \\sin (y + \\epsilon)$"
      ]
    },
    {
      "cell_type": "markdown",
      "metadata": {
        "id": "K7trsZhaXCUC"
      },
      "source": [
        "Высказывание является **истиным** тк на указанном промежутке функция имеет значения $[0:1]$. Значит можно подобрать такое значение $\\epsilon$ для которого функция будет принимать значения $[-1:0)$"
      ]
    },
    {
      "cell_type": "markdown",
      "metadata": {
        "id": "1hlTCG5AXkeH"
      },
      "source": [
        "Построим отрицание: $\\exists y \\in [0 ; \\frac{\\pi}{2}] \\exists \\epsilon > 0 : \\sin y \\geq \\sin (y + \\epsilon)$"
      ]
    },
    {
      "cell_type": "markdown",
      "metadata": {
        "id": "JIH_17k3X8t6"
      },
      "source": [
        "Утверждене ложно, тк на указанном промежутке функция строго возрастает."
      ]
    },
    {
      "cell_type": "markdown",
      "metadata": {
        "id": "ut88i1INaoBy"
      },
      "source": [
        "**Ответ**: текущее высказывание истиное."
      ]
    },
    {
      "cell_type": "markdown",
      "metadata": {
        "id": "1WcuLj3Taucx"
      },
      "source": [
        "\n",
        "\n",
        "---\n",
        "\n"
      ]
    },
    {
      "cell_type": "markdown",
      "metadata": {
        "id": "5RvDQs0-bDcs"
      },
      "source": [
        "$\\forall y \\in [0;\\pi] \\exists \\epsilon > 0: \\cos y > \\cos (y + \\epsilon)$"
      ]
    },
    {
      "cell_type": "markdown",
      "metadata": {
        "id": "fEnZyfP2bU3A"
      },
      "source": [
        "Для любого $y$ из указанного промежутка существует $\\epsilon > 0$ такое что $\\cos y > \\cos (y + \\epsilon)$"
      ]
    },
    {
      "cell_type": "markdown",
      "metadata": {
        "id": "I3ylwivBcQxU"
      },
      "source": [
        "Высказывание является **ложным**, тк функция $\\cos$ ограничена снизу."
      ]
    },
    {
      "cell_type": "markdown",
      "metadata": {
        "id": "MwB4IQredF8y"
      },
      "source": [
        "Построим отрицание: $\\exists y \\in [0;\\pi] \\exists \\epsilon > 0 : \\cos y \\leq \\cos (y + \\epsilon)$"
      ]
    },
    {
      "cell_type": "markdown",
      "metadata": {
        "id": "Hi6QxeNNdaIW"
      },
      "source": [
        "Утверждение верно, тк можно подобрать $\\epsilon$ такое что неравенство будет выполняться."
      ]
    },
    {
      "cell_type": "markdown",
      "metadata": {
        "id": "aJprGGNgduh9"
      },
      "source": [
        "**Ответ**: текущее высказывание ложное."
      ]
    },
    {
      "cell_type": "markdown",
      "metadata": {
        "id": "K4yFKrZtd0Cs"
      },
      "source": [
        "\n",
        "\n",
        "---\n",
        "\n"
      ]
    },
    {
      "cell_type": "markdown",
      "metadata": {
        "id": "9dIld-BOd2JK"
      },
      "source": [
        "$\\exists x: x \\notin \\{ \\mathbb{N}, \\mathbb{Z}, \\mathbb{Q}, \\mathbb{R}, \\mathbb{C} \\}$"
      ]
    },
    {
      "cell_type": "markdown",
      "metadata": {
        "id": "Ufp6ojJ2eXCr"
      },
      "source": [
        "Существут такое $x$ что оно не принадлежит ни одному из известных множеств."
      ]
    },
    {
      "cell_type": "markdown",
      "metadata": {
        "id": "e_6mW91hefn8"
      },
      "source": [
        "Высказывание является **ложным**, тк любой элемент приндлежит какому-то из указанных множеств (а то и нескольким сразу)."
      ]
    },
    {
      "cell_type": "markdown",
      "metadata": {
        "id": "Md9BA00OewDw"
      },
      "source": [
        "Построим отрицание: $\\forall x: x \\in \\{ \\mathbb{N}, \\mathbb{Z}, \\mathbb{Q}, \\mathbb{R}, \\mathbb{C} \\}$"
      ]
    },
    {
      "cell_type": "markdown",
      "metadata": {
        "id": "uWhjhLXUfG25"
      },
      "source": [
        "Утверждение является верным, тк любой элемент принадлежит какому-нибудь множеству."
      ]
    },
    {
      "cell_type": "markdown",
      "metadata": {
        "id": "zPFwVlqefSx3"
      },
      "source": [
        "**Ответ**: текущее высказывание ложное."
      ]
    },
    {
      "cell_type": "markdown",
      "metadata": {
        "id": "77tEZDrzOq3Q"
      },
      "source": [
        "### Даны три множества a,b и с. Необходимо выполнить все изученные виды бинарных операций над всеми комбинациями множеств."
      ]
    },
    {
      "cell_type": "code",
      "metadata": {
        "id": "5LAU3qpGO3WN"
      },
      "source": [
        "A = {1, 2, 3, 4, 5}\n",
        "B = {4, 5, 6, 7, 8}\n",
        "C = {1, 2, 9, 10, 11}"
      ],
      "execution_count": 1,
      "outputs": []
    },
    {
      "cell_type": "markdown",
      "metadata": {
        "id": "QC_fDfEgPJiX"
      },
      "source": [
        "#### Пересечение"
      ]
    },
    {
      "cell_type": "code",
      "metadata": {
        "colab": {
          "base_uri": "https://localhost:8080/"
        },
        "id": "GQiekuRHPTMj",
        "outputId": "40450246-ad2a-4fdc-da5d-9910dd028902"
      },
      "source": [
        "A & B, A & C, B & C"
      ],
      "execution_count": 5,
      "outputs": [
        {
          "output_type": "execute_result",
          "data": {
            "text/plain": [
              "({4, 5}, {1, 2}, set())"
            ]
          },
          "metadata": {},
          "execution_count": 5
        }
      ]
    },
    {
      "cell_type": "markdown",
      "metadata": {
        "id": "XMe_xVIzPud_"
      },
      "source": [
        "#### Объединение"
      ]
    },
    {
      "cell_type": "code",
      "metadata": {
        "colab": {
          "base_uri": "https://localhost:8080/"
        },
        "id": "eq0p9GTyP8uP",
        "outputId": "80d0d2fb-9826-45a5-895d-e4bc253a50cf"
      },
      "source": [
        "A | B, A | C, B | C"
      ],
      "execution_count": 9,
      "outputs": [
        {
          "output_type": "execute_result",
          "data": {
            "text/plain": [
              "({1, 2, 3, 4, 5, 6, 7, 8},\n",
              " {1, 2, 3, 4, 5, 9, 10, 11},\n",
              " {1, 2, 4, 5, 6, 7, 8, 9, 10, 11})"
            ]
          },
          "metadata": {},
          "execution_count": 9
        }
      ]
    },
    {
      "cell_type": "markdown",
      "metadata": {
        "id": "EkCV5wFxQY3o"
      },
      "source": [
        "#### Разность"
      ]
    },
    {
      "cell_type": "code",
      "metadata": {
        "colab": {
          "base_uri": "https://localhost:8080/"
        },
        "id": "cplE0SgEQea6",
        "outputId": "c74db742-c0c5-4143-d065-5088acdb0fd7"
      },
      "source": [
        "A - B, B - A, A - C, C - A, B - C, C - B"
      ],
      "execution_count": 12,
      "outputs": [
        {
          "output_type": "execute_result",
          "data": {
            "text/plain": [
              "({1, 2, 3},\n",
              " {6, 7, 8},\n",
              " {3, 4, 5},\n",
              " {9, 10, 11},\n",
              " {4, 5, 6, 7, 8},\n",
              " {1, 2, 9, 10, 11})"
            ]
          },
          "metadata": {},
          "execution_count": 12
        }
      ]
    },
    {
      "cell_type": "markdown",
      "metadata": {
        "id": "EVQVbE_cQtd7"
      },
      "source": [
        "#### Симметричная разность"
      ]
    },
    {
      "cell_type": "code",
      "metadata": {
        "colab": {
          "base_uri": "https://localhost:8080/"
        },
        "id": "UT_lq977Qw_T",
        "outputId": "aac4a087-c851-463a-c57c-c6d77436a122"
      },
      "source": [
        "A ^ B, A ^ C, B ^ C"
      ],
      "execution_count": 15,
      "outputs": [
        {
          "output_type": "execute_result",
          "data": {
            "text/plain": [
              "({1, 2, 3, 6, 7, 8}, {3, 4, 5, 9, 10, 11}, {1, 2, 4, 5, 6, 7, 8, 9, 10, 11})"
            ]
          },
          "metadata": {},
          "execution_count": 15
        }
      ]
    }
  ]
}