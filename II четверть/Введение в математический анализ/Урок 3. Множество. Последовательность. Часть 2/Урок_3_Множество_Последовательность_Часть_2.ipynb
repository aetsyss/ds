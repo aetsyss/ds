{
  "nbformat": 4,
  "nbformat_minor": 0,
  "metadata": {
    "colab": {
      "name": "Урок 3. Множество. Последовательность. Часть 2.ipynb",
      "provenance": []
    },
    "kernelspec": {
      "name": "python3",
      "display_name": "Python 3"
    },
    "language_info": {
      "name": "python"
    }
  },
  "cells": [
    {
      "cell_type": "markdown",
      "metadata": {
        "id": "fA_7Ohn9qrHz"
      },
      "source": [
        "# Урок 3. Множество. Последовательность. Часть 2"
      ]
    },
    {
      "cell_type": "markdown",
      "metadata": {
        "id": "RfSJYkK_qvlC"
      },
      "source": [
        "### 1. Как относятся друг к другу множество и последовательность? (в ответе использовать слова типа: часть, целое, общее, частное, родитель, дочерний субъект и т.д.)"
      ]
    },
    {
      "cell_type": "markdown",
      "metadata": {
        "id": "3t_V9ydGqz8F"
      },
      "source": [
        "Последовательность это частный случай множества, на которое распространяются определенные правила. В последовательности очередность элементов строго определена. Каждый элемент имеет порядковый номер от 1 и до бесконечности. Каждый элемент может быть задан либо относительно его порядкого номера, либо относительно предыдущих объектов."
      ]
    },
    {
      "cell_type": "markdown",
      "metadata": {
        "id": "YZyW_AEbvDKw"
      },
      "source": [
        "### 2. Даны 4 последовательности. Необходимо:\n",
        "а) исследовать их на монотонность; \n",
        "\n",
        "б) исследовать на ограниченность;\n",
        "\n",
        "в) найти пятый по счету член.\n"
      ]
    },
    {
      "cell_type": "markdown",
      "metadata": {
        "id": "IRnJdxDsvQ1P"
      },
      "source": [
        "#### $\\Bigl\\{a_{n}\\Bigr\\}_{n=1}^\\infty = 2^n - n$\n",
        "\n",
        "a) строго возрастает\n",
        "\n",
        "б) ограничена снизу 1, неограничена сверху\n",
        "\n",
        "в) $a_{5} = 2^5 - 5 = 32 - 5 = 27$"
      ]
    },
    {
      "cell_type": "markdown",
      "metadata": {
        "id": "wpIJ6r08yEar"
      },
      "source": [
        "\n",
        "\n",
        "---\n",
        "\n"
      ]
    },
    {
      "cell_type": "markdown",
      "metadata": {
        "id": "VAhZWot8yWWJ"
      },
      "source": [
        "#### $\\Bigl\\{b_{n}\\Bigr\\}_{n=2}^\\infty = \\frac{1}{1-n}$\n",
        "\n",
        "a) строго возрастает\n",
        "\n",
        "б) ограниченоа снизу -1, граничена сверху 0\n",
        "\n",
        "в) $b_{5} = \\frac{1}{1-5} = \\frac{1}{-4} = -\\frac{1}{4}$"
      ]
    },
    {
      "cell_type": "markdown",
      "metadata": {
        "id": "pk4SHG2VzuE7"
      },
      "source": [
        "\n",
        "\n",
        "---\n",
        "\n"
      ]
    },
    {
      "cell_type": "markdown",
      "metadata": {
        "id": "EPS5bWtHzv5T"
      },
      "source": [
        "#### $\\Bigl\\{c_{n}\\Bigr\\}_{n=1}^\\infty = -1^n + \\sqrt{2n}$\n",
        "\n",
        "а) строго возрастает\n",
        "\n",
        "б) ограничена снизу $-1 + \\sqrt{2}$, неограничена сверху\n",
        "\n",
        "в) $c_{5} = -1^5 + \\sqrt{2*5} = -1 + \\sqrt{10}$"
      ]
    },
    {
      "cell_type": "markdown",
      "metadata": {
        "id": "bBtwAK5f1GAG"
      },
      "source": [
        "\n",
        "\n",
        "---\n",
        "\n"
      ]
    },
    {
      "cell_type": "markdown",
      "metadata": {
        "id": "OBI6iXyV1HRU"
      },
      "source": [
        "#### $\\Bigl\\{d_{n}\\Bigr\\}_{n=1}^\\infty = (-1)^{2n} + \\frac{1}{n^2}$\n",
        "\n",
        "а) строго убывает\n",
        "\n",
        "б) ограничена снизу 1, ограничена сверху 2\n",
        "\n",
        "в) $d_{5} = (-1)^{2*5} + \\frac{1}{5^2} = (-1)^{10} + \\frac{1}{25} = 1.04$"
      ]
    },
    {
      "cell_type": "markdown",
      "metadata": {
        "id": "YI1JkVaS2quc"
      },
      "source": [
        "### 3. Найти 12-й член заданной неявно последовательности $a_{1} = 128, a_{n+1} - a_{n} = 6$"
      ]
    },
    {
      "cell_type": "markdown",
      "metadata": {
        "id": "15v2keoM2t-V"
      },
      "source": [
        "$a_{n+1} = a_{n} + 6$\n",
        "\n",
        "$a_{k} = a_{1} + 6*(k - 1)$\n",
        "\n",
        "$a_{12} = 128 + 6 * (12 - 1) = 128 + 6 * 11 = 128 + 66 = 194$"
      ]
    }
  ]
}