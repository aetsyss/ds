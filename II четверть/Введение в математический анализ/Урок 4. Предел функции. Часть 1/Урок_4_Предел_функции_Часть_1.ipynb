{
  "nbformat": 4,
  "nbformat_minor": 0,
  "metadata": {
    "colab": {
      "name": "Урок 4. Предел функции. Часть 1.ipynb",
      "provenance": []
    },
    "kernelspec": {
      "name": "python3",
      "display_name": "Python 3"
    },
    "language_info": {
      "name": "python"
    }
  },
  "cells": [
    {
      "cell_type": "markdown",
      "metadata": {
        "id": "C7MobUrQaF5A"
      },
      "source": [
        "# Урок 4. Предел функции. Часть 1"
      ]
    },
    {
      "cell_type": "markdown",
      "metadata": {
        "id": "naCPqqK0aKkf"
      },
      "source": [
        "### 1. Предложить пример функции, не имеющей предела в нуле и в бесконечностях.\n"
      ]
    },
    {
      "cell_type": "markdown",
      "metadata": {
        "id": "WYWQR0qfaMmA"
      },
      "source": [
        "### $f(x) = \\frac{x}{x}$"
      ]
    },
    {
      "cell_type": "markdown",
      "metadata": {
        "id": "xhaejU-TaYqV"
      },
      "source": [
        "### 2. Привести пример функции, не имеющей предела в точке, но определенной в ней.\n"
      ]
    },
    {
      "cell_type": "markdown",
      "metadata": {
        "id": "xWkIGz8YaejT"
      },
      "source": [
        "Не понимаю как это делать :("
      ]
    },
    {
      "cell_type": "markdown",
      "metadata": {
        "id": "gpJeeW87ajjs"
      },
      "source": [
        "### 3. Исследовать функцию $f(x) = x^3 - x ^2$ по плану:"
      ]
    },
    {
      "cell_type": "markdown",
      "metadata": {
        "id": "iQMqEibjaq9s"
      },
      "source": [
        "a) Область задания: $(-\\infty ; +\\infty)$, область значений: $(-\\infty ; +\\infty)$.\n",
        "\n",
        "\n"
      ]
    },
    {
      "cell_type": "markdown",
      "metadata": {
        "id": "DmDilQ5CbaYw"
      },
      "source": [
        "b) Нули функции и их кратность. $x_1=0, x_2=1$, кратность не понял как определяется :(\n"
      ]
    },
    {
      "cell_type": "markdown",
      "metadata": {
        "id": "UwSgkhd1biuk"
      },
      "source": [
        "c) Отрезки знакопостоянства.\n",
        "\n",
        "$f(x)>0$ при $x>1$\n",
        "\n",
        "$f(x)=0$ при $x=0, x=1$\n",
        "\n",
        "$f(x)<0$ при $x<0$ и $x\\in(0;1)$"
      ]
    },
    {
      "cell_type": "markdown",
      "metadata": {
        "id": "ddgYl_yAcI1B"
      },
      "source": [
        "e) Четность функции. Функция не является четной."
      ]
    },
    {
      "cell_type": "markdown",
      "metadata": {
        "id": "1flASHB4cOwC"
      },
      "source": [
        "f) Ограниченность. Функция не ограничена."
      ]
    },
    {
      "cell_type": "markdown",
      "metadata": {
        "id": "gH2e9qfmcVd6"
      },
      "source": [
        "g) Периодичность. Функция не периодична."
      ]
    },
    {
      "cell_type": "markdown",
      "metadata": {
        "id": "a-uyt8Uwccll"
      },
      "source": [
        "### 4. Найти предел: $\\lim_{x\\to 0}\\frac{3x^3-2x^2}{4x^2}$"
      ]
    },
    {
      "cell_type": "markdown",
      "metadata": {
        "id": "CoEl935_dBVR"
      },
      "source": [
        "$\\lim_{x\\to 0}\\frac{3x^3-2x^2}{4x^2} = \\Bigr(\\frac{0}{0}\\Bigl) = \\Bigr(\\frac{x^2(3x-2)}{4x^2}\\Bigl)=\\Bigr(\\frac{3x-2}{4}\\Bigl)=\\frac{-2}{4}=-\\frac{1}{2}$"
      ]
    }
  ]
}