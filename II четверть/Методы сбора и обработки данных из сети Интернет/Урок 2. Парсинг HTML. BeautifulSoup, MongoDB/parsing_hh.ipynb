{
  "nbformat": 4,
  "nbformat_minor": 0,
  "metadata": {
    "colab": {
      "name": "parsing_hh.ipynb",
      "provenance": []
    },
    "kernelspec": {
      "name": "python3",
      "display_name": "Python 3"
    },
    "language_info": {
      "name": "python"
    }
  },
  "cells": [
    {
      "cell_type": "markdown",
      "metadata": {
        "id": "ImgflCfBZ1oE"
      },
      "source": [
        "# Урок 2. Парсинг HTML. BeautifulSoup, MongoDB"
      ]
    },
    {
      "cell_type": "markdown",
      "metadata": {
        "id": "jNiASx-xZ-NM"
      },
      "source": [
        "Необходимо собрать информацию о вакансиях на вводимую должность (используем input или через аргументы получаем должность) с сайтов HH(обязательно) и/или Superjob(по желанию). Приложение должно анализировать несколько страниц сайта (также вводим через input или аргументы)"
      ]
    },
    {
      "cell_type": "markdown",
      "metadata": {
        "id": "Qfabd3fZgHNf"
      },
      "source": [
        "Получившийся список должен содержать в себе минимум:\n",
        "\n",
        "* Наименование вакансии.\n",
        "* Предлагаемую зарплату (отдельно минимальную и максимальную).\n",
        "* Ссылку на саму вакансию.\n",
        "* Сайт, откуда собрана вакансия.\n",
        "\n",
        "По желанию можно добавить ещё параметры вакансии (например, работодателя и расположение). \n",
        "Структура должна быть одинаковая для вакансий с обоих сайтов. \n",
        "\n",
        "Общий результат можно вывести с помощью dataFrame через pandas. Сохраните в json либо csv."
      ]
    },
    {
      "cell_type": "markdown",
      "metadata": {
        "id": "KxOsQEgWowNo"
      },
      "source": [
        "### Import libraries"
      ]
    },
    {
      "cell_type": "code",
      "metadata": {
        "id": "BGRI8vy2aBYf"
      },
      "source": [
        "import requests\n",
        "import re\n",
        "import pandas as pd\n",
        "import json\n",
        "\n",
        "from bs4 import BeautifulSoup as bs"
      ],
      "execution_count": null,
      "outputs": []
    },
    {
      "cell_type": "markdown",
      "metadata": {
        "id": "Vh5ovjJ9oZlh"
      },
      "source": [
        "### Define helper functions"
      ]
    },
    {
      "cell_type": "code",
      "metadata": {
        "id": "APZk4XzIBJyp"
      },
      "source": [
        "def getCompensationCurrency(str):\n",
        "  return str.split()[-1]\n",
        "\n",
        "def getMinCompensation(str):\n",
        "  numbers = re.findall(r'\\d+', str.replace(' ', ''))\n",
        "  if 'до' in str:\n",
        "    return None\n",
        "  else:\n",
        "    return int(numbers[-1]) if 'от' in str else int(numbers[0])\n",
        "\n",
        "def getMaxCompensation(str):\n",
        "  numbers = re.findall(r'\\d+', str.replace(' ', ''))\n",
        "  if 'от' in str:\n",
        "    return None\n",
        "  else:\n",
        "    return int(numbers[0]) if 'до' in str else int(numbers[-1])"
      ],
      "execution_count": null,
      "outputs": []
    },
    {
      "cell_type": "code",
      "metadata": {
        "id": "-0aq2CM3nwPI"
      },
      "source": [
        "def parseJob(job):\n",
        "  title = job.find('a', {'class': 'bloko-link'}).getText()\n",
        "  link = job.find('a', {'class': 'bloko-link'}).get('href')\n",
        "\n",
        "  compensation = job.find('span', {'data-qa': 'vacancy-serp__vacancy-compensation'})\n",
        "  compensationText = None if compensation is None else compensation.getText().replace(u'\\u202f', ' ')\n",
        "  \n",
        "  minCompensation = None if compensationText is None else getMinCompensation(compensationText)\n",
        "  maxCompensation = None if compensationText is None else getMaxCompensation(compensationText)\n",
        "  compensationCurrency = None if compensationText is None else getCompensationCurrency(compensationText)\n",
        "\n",
        "  return {\n",
        "      'title': title,\n",
        "      'link': link,\n",
        "      'minCompensation': minCompensation,\n",
        "      'maxCompensation': maxCompensation,\n",
        "      'compensationCurrency': compensationCurrency\n",
        "  }"
      ],
      "execution_count": null,
      "outputs": []
    },
    {
      "cell_type": "markdown",
      "metadata": {
        "id": "s7UKA5k9kYpV"
      },
      "source": [
        "### Get the search request"
      ]
    },
    {
      "cell_type": "code",
      "metadata": {
        "colab": {
          "base_uri": "https://localhost:8080/"
        },
        "id": "aAdxeMuckb47",
        "outputId": "453c328a-69a1-4f79-8510-2e9f3b405695"
      },
      "source": [
        "searchRequest = input('Enter a search request: ')"
      ],
      "execution_count": null,
      "outputs": [
        {
          "output_type": "stream",
          "text": [
            "Enter a search request: skala js\n"
          ],
          "name": "stdout"
        }
      ]
    },
    {
      "cell_type": "markdown",
      "metadata": {
        "id": "GHDR_lRLoyg9"
      },
      "source": [
        "### Make a request"
      ]
    },
    {
      "cell_type": "code",
      "metadata": {
        "id": "riCCfF8stIYh"
      },
      "source": [
        "fullJobsList = []"
      ],
      "execution_count": null,
      "outputs": []
    },
    {
      "cell_type": "code",
      "metadata": {
        "id": "rOJKUgegaXQp"
      },
      "source": [
        "baseUrl = 'https://hh.ru'\n",
        "\n",
        "headers = {\n",
        "    'User-Agent': 'Mozilla/5.0 (Windows NT 10.0; Win64; x64; rv:83.0) Gecko/20100101 Firefox/83.0'\n",
        "}\n",
        "\n",
        "params = {\n",
        "    'area': '1',\n",
        "    'fromSearchLine': 'true',\n",
        "    'st': 'searchVacancy',\n",
        "    'text': searchRequest\n",
        "}\n",
        "\n",
        "url = baseUrl + '/search/vacancy'\n",
        "\n",
        "while True:\n",
        "  response = requests.get(url, params=params, headers=headers)\n",
        "  soup = bs(response.text, 'html.parser')\n",
        "\n",
        "  jobs = soup.find_all('div', {'class': 'vacancy-serp-item'})\n",
        "\n",
        "  parsedJobs = list(map(lambda x: parseJob(x), jobs))\n",
        "  fullJobsList.extend(parsedJobs)\n",
        "\n",
        "  nextButton = soup.find('a', {'data-qa': 'pager-next'})\n",
        "  url = None if nextButton is None else baseUrl + nextButton.get('href')\n",
        "\n",
        "  params = None\n",
        "  \n",
        "  if url is None:\n",
        "    break"
      ],
      "execution_count": null,
      "outputs": []
    },
    {
      "cell_type": "markdown",
      "metadata": {
        "id": "cfEBGqJClQCE"
      },
      "source": [
        "### Convert results to Pandas DataFrame"
      ]
    },
    {
      "cell_type": "code",
      "metadata": {
        "colab": {
          "base_uri": "https://localhost:8080/",
          "height": 80
        },
        "id": "N1tGMjP0kiiN",
        "outputId": "58f0edfd-0bab-4f8a-f014-27c6ca6f8a9b"
      },
      "source": [
        "df = pd.DataFrame(fullJobsList)\n",
        "df"
      ],
      "execution_count": null,
      "outputs": [
        {
          "output_type": "execute_result",
          "data": {
            "text/html": [
              "<div>\n",
              "<style scoped>\n",
              "    .dataframe tbody tr th:only-of-type {\n",
              "        vertical-align: middle;\n",
              "    }\n",
              "\n",
              "    .dataframe tbody tr th {\n",
              "        vertical-align: top;\n",
              "    }\n",
              "\n",
              "    .dataframe thead th {\n",
              "        text-align: right;\n",
              "    }\n",
              "</style>\n",
              "<table border=\"1\" class=\"dataframe\">\n",
              "  <thead>\n",
              "    <tr style=\"text-align: right;\">\n",
              "      <th></th>\n",
              "      <th>title</th>\n",
              "      <th>link</th>\n",
              "      <th>minCompensation</th>\n",
              "      <th>maxCompensation</th>\n",
              "      <th>compensationCurrency</th>\n",
              "    </tr>\n",
              "  </thead>\n",
              "  <tbody>\n",
              "    <tr>\n",
              "      <th>0</th>\n",
              "      <td>Java-программист</td>\n",
              "      <td>https://hh.ru/vacancy/46158099?from=vacancy_se...</td>\n",
              "      <td>200000</td>\n",
              "      <td>300000</td>\n",
              "      <td>руб.</td>\n",
              "    </tr>\n",
              "  </tbody>\n",
              "</table>\n",
              "</div>"
            ],
            "text/plain": [
              "              title  ... compensationCurrency\n",
              "0  Java-программист  ...                 руб.\n",
              "\n",
              "[1 rows x 5 columns]"
            ]
          },
          "metadata": {
            "tags": []
          },
          "execution_count": 7
        }
      ]
    },
    {
      "cell_type": "markdown",
      "metadata": {
        "id": "Zg6vyzewlXUE"
      },
      "source": [
        "### Save results as JSON"
      ]
    },
    {
      "cell_type": "code",
      "metadata": {
        "id": "63XEZuDflaWd"
      },
      "source": [
        "with open('hh.json', 'w') as fout:\n",
        "    json.dump(fullJobsList , fout)"
      ],
      "execution_count": null,
      "outputs": []
    }
  ]
}