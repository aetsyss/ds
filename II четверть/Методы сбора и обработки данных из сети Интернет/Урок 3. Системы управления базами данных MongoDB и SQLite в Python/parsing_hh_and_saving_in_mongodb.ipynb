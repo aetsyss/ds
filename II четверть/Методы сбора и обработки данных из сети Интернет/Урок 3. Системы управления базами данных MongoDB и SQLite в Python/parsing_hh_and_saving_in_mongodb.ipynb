{
  "nbformat": 4,
  "nbformat_minor": 0,
  "metadata": {
    "colab": {
      "name": "parsing_hh_and_saving_in_mongodb.ipynb",
      "provenance": []
    },
    "kernelspec": {
      "name": "python3",
      "display_name": "Python 3"
    },
    "language_info": {
      "name": "python"
    }
  },
  "cells": [
    {
      "cell_type": "markdown",
      "metadata": {
        "id": "ImgflCfBZ1oE"
      },
      "source": [
        "# Урок 2. Парсинг HTML. BeautifulSoup, MongoDB (Урок 3 ниже)"
      ]
    },
    {
      "cell_type": "markdown",
      "metadata": {
        "id": "jNiASx-xZ-NM"
      },
      "source": [
        "Необходимо собрать информацию о вакансиях на вводимую должность (используем input или через аргументы получаем должность) с сайтов HH(обязательно) и/или Superjob(по желанию). Приложение должно анализировать несколько страниц сайта (также вводим через input или аргументы)"
      ]
    },
    {
      "cell_type": "markdown",
      "metadata": {
        "id": "Qfabd3fZgHNf"
      },
      "source": [
        "Получившийся список должен содержать в себе минимум:\n",
        "\n",
        "* Наименование вакансии.\n",
        "* Предлагаемую зарплату (отдельно минимальную и максимальную).\n",
        "* Ссылку на саму вакансию.\n",
        "* Сайт, откуда собрана вакансия.\n",
        "\n",
        "По желанию можно добавить ещё параметры вакансии (например, работодателя и расположение). \n",
        "Структура должна быть одинаковая для вакансий с обоих сайтов. \n",
        "\n",
        "Общий результат можно вывести с помощью dataFrame через pandas. Сохраните в json либо csv."
      ]
    },
    {
      "cell_type": "markdown",
      "metadata": {
        "id": "KxOsQEgWowNo"
      },
      "source": [
        "### Import libraries"
      ]
    },
    {
      "cell_type": "code",
      "metadata": {
        "id": "BGRI8vy2aBYf"
      },
      "source": [
        "import requests\n",
        "import re\n",
        "import pandas as pd\n",
        "import json\n",
        "\n",
        "from bs4 import BeautifulSoup as bs"
      ],
      "execution_count": 178,
      "outputs": []
    },
    {
      "cell_type": "markdown",
      "metadata": {
        "id": "Vh5ovjJ9oZlh"
      },
      "source": [
        "### Define helper functions"
      ]
    },
    {
      "cell_type": "code",
      "metadata": {
        "id": "APZk4XzIBJyp"
      },
      "source": [
        "def getCompensationCurrency(str):\n",
        "  return str.split()[-1]\n",
        "\n",
        "def getMinCompensation(str):\n",
        "  numbers = re.findall(r'\\d+', str.replace(' ', ''))\n",
        "  if 'до' in str:\n",
        "    return None\n",
        "  else:\n",
        "    return int(numbers[-1]) if 'от' in str else int(numbers[0])\n",
        "\n",
        "def getMaxCompensation(str):\n",
        "  numbers = re.findall(r'\\d+', str.replace(' ', ''))\n",
        "  if 'от' in str:\n",
        "    return None\n",
        "  else:\n",
        "    return int(numbers[0]) if 'до' in str else int(numbers[-1])"
      ],
      "execution_count": 179,
      "outputs": []
    },
    {
      "cell_type": "code",
      "metadata": {
        "id": "-0aq2CM3nwPI"
      },
      "source": [
        "def parseJob(job):\n",
        "  title = job.find('a', {'class': 'bloko-link'}).getText()\n",
        "  link = job.find('a', {'class': 'bloko-link'}).get('href')\n",
        "\n",
        "  compensation = job.find('span', {'data-qa': 'vacancy-serp__vacancy-compensation'})\n",
        "  compensationText = None if compensation is None else compensation.getText().replace(u'\\u202f', ' ')\n",
        "  \n",
        "  minCompensation = None if compensationText is None else getMinCompensation(compensationText)\n",
        "  maxCompensation = None if compensationText is None else getMaxCompensation(compensationText)\n",
        "  compensationCurrency = None if compensationText is None else getCompensationCurrency(compensationText)\n",
        "\n",
        "  return {\n",
        "      'title': title,\n",
        "      'link': link,\n",
        "      'minCompensation': minCompensation,\n",
        "      'maxCompensation': maxCompensation,\n",
        "      'compensationCurrency': compensationCurrency\n",
        "  }"
      ],
      "execution_count": 180,
      "outputs": []
    },
    {
      "cell_type": "markdown",
      "metadata": {
        "id": "s7UKA5k9kYpV"
      },
      "source": [
        "### Get the search request"
      ]
    },
    {
      "cell_type": "code",
      "metadata": {
        "colab": {
          "base_uri": "https://localhost:8080/"
        },
        "id": "aAdxeMuckb47",
        "outputId": "cc0cc393-4001-49e6-8f54-490e15144535"
      },
      "source": [
        "searchRequest = input('Enter a search request: ')"
      ],
      "execution_count": 181,
      "outputs": [
        {
          "output_type": "stream",
          "text": [
            "Enter a search request: scala js\n"
          ],
          "name": "stdout"
        }
      ]
    },
    {
      "cell_type": "markdown",
      "metadata": {
        "id": "GHDR_lRLoyg9"
      },
      "source": [
        "### Make a request"
      ]
    },
    {
      "cell_type": "code",
      "metadata": {
        "id": "riCCfF8stIYh"
      },
      "source": [
        "fullJobsList = []"
      ],
      "execution_count": 182,
      "outputs": []
    },
    {
      "cell_type": "code",
      "metadata": {
        "id": "rOJKUgegaXQp"
      },
      "source": [
        "baseUrl = 'https://hh.ru'\n",
        "\n",
        "headers = {\n",
        "    'User-Agent': 'Mozilla/5.0 (Windows NT 10.0; Win64; x64; rv:83.0) Gecko/20100101 Firefox/83.0'\n",
        "}\n",
        "\n",
        "params = {\n",
        "    'area': '1',\n",
        "    'fromSearchLine': 'true',\n",
        "    'st': 'searchVacancy',\n",
        "    'text': searchRequest\n",
        "}\n",
        "\n",
        "url = baseUrl + '/search/vacancy'\n",
        "\n",
        "while True:\n",
        "  response = requests.get(url, params=params, headers=headers)\n",
        "  soup = bs(response.text, 'html.parser')\n",
        "\n",
        "  jobs = soup.find_all('div', {'class': 'vacancy-serp-item'})\n",
        "\n",
        "  parsedJobs = list(map(lambda x: parseJob(x), jobs))\n",
        "  fullJobsList.extend(parsedJobs)\n",
        "\n",
        "  nextButton = soup.find('a', {'data-qa': 'pager-next'})\n",
        "  url = None if nextButton is None else baseUrl + nextButton.get('href')\n",
        "\n",
        "  params = None\n",
        "  \n",
        "  if url is None:\n",
        "    break"
      ],
      "execution_count": 183,
      "outputs": []
    },
    {
      "cell_type": "markdown",
      "metadata": {
        "id": "cfEBGqJClQCE"
      },
      "source": [
        "### Convert results to Pandas DataFrame"
      ]
    },
    {
      "cell_type": "code",
      "metadata": {
        "colab": {
          "base_uri": "https://localhost:8080/",
          "height": 700
        },
        "id": "N1tGMjP0kiiN",
        "outputId": "3dc35788-cf1f-42c3-87ed-10508c153d66"
      },
      "source": [
        "df = pd.DataFrame(fullJobsList)\n",
        "df"
      ],
      "execution_count": 184,
      "outputs": [
        {
          "output_type": "execute_result",
          "data": {
            "text/html": [
              "<div>\n",
              "<style scoped>\n",
              "    .dataframe tbody tr th:only-of-type {\n",
              "        vertical-align: middle;\n",
              "    }\n",
              "\n",
              "    .dataframe tbody tr th {\n",
              "        vertical-align: top;\n",
              "    }\n",
              "\n",
              "    .dataframe thead th {\n",
              "        text-align: right;\n",
              "    }\n",
              "</style>\n",
              "<table border=\"1\" class=\"dataframe\">\n",
              "  <thead>\n",
              "    <tr style=\"text-align: right;\">\n",
              "      <th></th>\n",
              "      <th>title</th>\n",
              "      <th>link</th>\n",
              "      <th>minCompensation</th>\n",
              "      <th>maxCompensation</th>\n",
              "      <th>compensationCurrency</th>\n",
              "    </tr>\n",
              "  </thead>\n",
              "  <tbody>\n",
              "    <tr>\n",
              "      <th>0</th>\n",
              "      <td>Scala разработчик</td>\n",
              "      <td>https://hh.ru/vacancy/46861396?from=vacancy_se...</td>\n",
              "      <td>90000.0</td>\n",
              "      <td>110000.0</td>\n",
              "      <td>руб.</td>\n",
              "    </tr>\n",
              "    <tr>\n",
              "      <th>1</th>\n",
              "      <td>Front-end разработчик (React)</td>\n",
              "      <td>https://hh.ru/vacancy/46744457?from=vacancy_se...</td>\n",
              "      <td>NaN</td>\n",
              "      <td>NaN</td>\n",
              "      <td>None</td>\n",
              "    </tr>\n",
              "    <tr>\n",
              "      <th>2</th>\n",
              "      <td>Back-End Developer</td>\n",
              "      <td>https://hh.ru/vacancy/46138566?from=vacancy_se...</td>\n",
              "      <td>2000.0</td>\n",
              "      <td>NaN</td>\n",
              "      <td>USD</td>\n",
              "    </tr>\n",
              "    <tr>\n",
              "      <th>3</th>\n",
              "      <td>Scala-разработчик/Backend-разработчик (удаленно)</td>\n",
              "      <td>https://hh.ru/vacancy/46389403?from=vacancy_se...</td>\n",
              "      <td>NaN</td>\n",
              "      <td>NaN</td>\n",
              "      <td>None</td>\n",
              "    </tr>\n",
              "    <tr>\n",
              "      <th>4</th>\n",
              "      <td>Junior Scala-разработчик (удаленно)</td>\n",
              "      <td>https://hh.ru/vacancy/45250274?from=vacancy_se...</td>\n",
              "      <td>NaN</td>\n",
              "      <td>NaN</td>\n",
              "      <td>None</td>\n",
              "    </tr>\n",
              "    <tr>\n",
              "      <th>5</th>\n",
              "      <td>Front-end junior+ разработчик (React)</td>\n",
              "      <td>https://hh.ru/vacancy/46596080?from=vacancy_se...</td>\n",
              "      <td>70000.0</td>\n",
              "      <td>NaN</td>\n",
              "      <td>руб.</td>\n",
              "    </tr>\n",
              "    <tr>\n",
              "      <th>6</th>\n",
              "      <td>Kotlin Backend Developer</td>\n",
              "      <td>https://hh.ru/vacancy/41711824?from=vacancy_se...</td>\n",
              "      <td>NaN</td>\n",
              "      <td>NaN</td>\n",
              "      <td>None</td>\n",
              "    </tr>\n",
              "    <tr>\n",
              "      <th>7</th>\n",
              "      <td>PHP developer (middle)</td>\n",
              "      <td>https://hh.ru/vacancy/45279715?from=vacancy_se...</td>\n",
              "      <td>NaN</td>\n",
              "      <td>NaN</td>\n",
              "      <td>None</td>\n",
              "    </tr>\n",
              "    <tr>\n",
              "      <th>8</th>\n",
              "      <td>Senior Software Engineer, Database Engineering...</td>\n",
              "      <td>https://hh.ru/vacancy/46377490?from=vacancy_se...</td>\n",
              "      <td>6000.0</td>\n",
              "      <td>NaN</td>\n",
              "      <td>USD</td>\n",
              "    </tr>\n",
              "    <tr>\n",
              "      <th>9</th>\n",
              "      <td>Senior Java developer - Rates trade processing</td>\n",
              "      <td>https://hh.ru/vacancy/46716389?from=vacancy_se...</td>\n",
              "      <td>NaN</td>\n",
              "      <td>NaN</td>\n",
              "      <td>None</td>\n",
              "    </tr>\n",
              "    <tr>\n",
              "      <th>10</th>\n",
              "      <td>Big Data developer</td>\n",
              "      <td>https://hh.ru/vacancy/45890193?from=vacancy_se...</td>\n",
              "      <td>NaN</td>\n",
              "      <td>NaN</td>\n",
              "      <td>None</td>\n",
              "    </tr>\n",
              "    <tr>\n",
              "      <th>11</th>\n",
              "      <td>QA engineer</td>\n",
              "      <td>https://hh.ru/vacancy/40733797?from=vacancy_se...</td>\n",
              "      <td>NaN</td>\n",
              "      <td>NaN</td>\n",
              "      <td>None</td>\n",
              "    </tr>\n",
              "    <tr>\n",
              "      <th>12</th>\n",
              "      <td>Full stack разработчик</td>\n",
              "      <td>https://hh.ru/vacancy/46833523?from=vacancy_se...</td>\n",
              "      <td>NaN</td>\n",
              "      <td>NaN</td>\n",
              "      <td>None</td>\n",
              "    </tr>\n",
              "    <tr>\n",
              "      <th>13</th>\n",
              "      <td>QA engineer (mobile)</td>\n",
              "      <td>https://hh.ru/vacancy/46149829?from=vacancy_se...</td>\n",
              "      <td>150000.0</td>\n",
              "      <td>NaN</td>\n",
              "      <td>руб.</td>\n",
              "    </tr>\n",
              "    <tr>\n",
              "      <th>14</th>\n",
              "      <td>Senior PHP developer</td>\n",
              "      <td>https://hh.ru/vacancy/46816670?from=vacancy_se...</td>\n",
              "      <td>150000.0</td>\n",
              "      <td>NaN</td>\n",
              "      <td>руб.</td>\n",
              "    </tr>\n",
              "    <tr>\n",
              "      <th>15</th>\n",
              "      <td>Site Reliability Engineer (SRE) / Software Eng...</td>\n",
              "      <td>https://hh.ru/vacancy/38946473?from=vacancy_se...</td>\n",
              "      <td>NaN</td>\n",
              "      <td>NaN</td>\n",
              "      <td>None</td>\n",
              "    </tr>\n",
              "    <tr>\n",
              "      <th>16</th>\n",
              "      <td>Руководитель разработки платформы данных</td>\n",
              "      <td>https://hh.ru/vacancy/46863758?from=vacancy_se...</td>\n",
              "      <td>NaN</td>\n",
              "      <td>NaN</td>\n",
              "      <td>None</td>\n",
              "    </tr>\n",
              "    <tr>\n",
              "      <th>17</th>\n",
              "      <td>Distributed Systems Engineer</td>\n",
              "      <td>https://hh.ru/vacancy/46377499?from=vacancy_se...</td>\n",
              "      <td>8000.0</td>\n",
              "      <td>NaN</td>\n",
              "      <td>USD</td>\n",
              "    </tr>\n",
              "    <tr>\n",
              "      <th>18</th>\n",
              "      <td>Data Scientist</td>\n",
              "      <td>https://hh.ru/vacancy/45570540?from=vacancy_se...</td>\n",
              "      <td>NaN</td>\n",
              "      <td>NaN</td>\n",
              "      <td>None</td>\n",
              "    </tr>\n",
              "    <tr>\n",
              "      <th>19</th>\n",
              "      <td>Data Engineer Middle</td>\n",
              "      <td>https://hh.ru/vacancy/46823836?from=vacancy_se...</td>\n",
              "      <td>120000.0</td>\n",
              "      <td>160000.0</td>\n",
              "      <td>руб.</td>\n",
              "    </tr>\n",
              "    <tr>\n",
              "      <th>20</th>\n",
              "      <td>Software Architect (Frontend, Backend, Cloud, ...</td>\n",
              "      <td>https://hh.ru/vacancy/45533186?from=vacancy_se...</td>\n",
              "      <td>NaN</td>\n",
              "      <td>NaN</td>\n",
              "      <td>None</td>\n",
              "    </tr>\n",
              "  </tbody>\n",
              "</table>\n",
              "</div>"
            ],
            "text/plain": [
              "                                                title  ... compensationCurrency\n",
              "0                                   Scala разработчик  ...                 руб.\n",
              "1                       Front-end разработчик (React)  ...                 None\n",
              "2                                  Back-End Developer  ...                  USD\n",
              "3    Scala-разработчик/Backend-разработчик (удаленно)  ...                 None\n",
              "4                 Junior Scala-разработчик (удаленно)  ...                 None\n",
              "5               Front-end junior+ разработчик (React)  ...                 руб.\n",
              "6                            Kotlin Backend Developer  ...                 None\n",
              "7                              PHP developer (middle)  ...                 None\n",
              "8   Senior Software Engineer, Database Engineering...  ...                  USD\n",
              "9      Senior Java developer - Rates trade processing  ...                 None\n",
              "10                                 Big Data developer  ...                 None\n",
              "11                                        QA engineer  ...                 None\n",
              "12                             Full stack разработчик  ...                 None\n",
              "13                               QA engineer (mobile)  ...                 руб.\n",
              "14                               Senior PHP developer  ...                 руб.\n",
              "15  Site Reliability Engineer (SRE) / Software Eng...  ...                 None\n",
              "16           Руководитель разработки платформы данных  ...                 None\n",
              "17                       Distributed Systems Engineer  ...                  USD\n",
              "18                                     Data Scientist  ...                 None\n",
              "19                               Data Engineer Middle  ...                 руб.\n",
              "20  Software Architect (Frontend, Backend, Cloud, ...  ...                 None\n",
              "\n",
              "[21 rows x 5 columns]"
            ]
          },
          "metadata": {
            "tags": []
          },
          "execution_count": 184
        }
      ]
    },
    {
      "cell_type": "markdown",
      "metadata": {
        "id": "Zg6vyzewlXUE"
      },
      "source": [
        "### Save results as JSON"
      ]
    },
    {
      "cell_type": "code",
      "metadata": {
        "id": "63XEZuDflaWd"
      },
      "source": [
        "with open('hh.json', 'w') as fout:\n",
        "    json.dump(fullJobsList , fout)"
      ],
      "execution_count": 185,
      "outputs": []
    },
    {
      "cell_type": "markdown",
      "metadata": {
        "id": "DF3TMRGs3f0E"
      },
      "source": [
        "# Урок 3. Системы управления базами данных MongoDB и SQLite в Python"
      ]
    },
    {
      "cell_type": "markdown",
      "metadata": {
        "id": "i-jZIlknfD0-"
      },
      "source": [
        "### Install dependencies (Restart runtime after the first installation)"
      ]
    },
    {
      "cell_type": "code",
      "metadata": {
        "colab": {
          "base_uri": "https://localhost:8080/"
        },
        "id": "KEjbuAn_4IyO",
        "outputId": "3797ce99-5d0d-433a-ab56-6df75e3fb834"
      },
      "source": [
        "! pip3 install pymongo[srv]"
      ],
      "execution_count": 186,
      "outputs": [
        {
          "output_type": "stream",
          "text": [
            "Requirement already satisfied: pymongo[srv] in /usr/local/lib/python3.7/dist-packages (3.11.4)\n",
            "Requirement already satisfied: dnspython<2.0.0,>=1.16.0 in /usr/local/lib/python3.7/dist-packages (from pymongo[srv]) (1.16.0)\n"
          ],
          "name": "stdout"
        }
      ]
    },
    {
      "cell_type": "markdown",
      "metadata": {
        "id": "8W9s2atS3vNn"
      },
      "source": [
        "### Import libraries"
      ]
    },
    {
      "cell_type": "code",
      "metadata": {
        "id": "CcO-Fym-33YW"
      },
      "source": [
        "from pymongo import MongoClient "
      ],
      "execution_count": 187,
      "outputs": []
    },
    {
      "cell_type": "markdown",
      "metadata": {
        "id": "P0ed1jVJ355i"
      },
      "source": [
        "### Connect to the data base"
      ]
    },
    {
      "cell_type": "code",
      "metadata": {
        "id": "81QStbmV35U0"
      },
      "source": [
        "usr = 'db_user'\n",
        "pwd = 'mOS9LygLPkiXsliW'\n",
        "dbname = 'ds_course'\n",
        "\n",
        "url = 'mongodb+srv://' + usr + ':' + pwd + '@myfreecluster.sns97.mongodb.net/' + dbname + '?retryWrites=true&w=majority'\n",
        "\n",
        "client = MongoClient(url)"
      ],
      "execution_count": 189,
      "outputs": []
    },
    {
      "cell_type": "code",
      "metadata": {
        "id": "N3SAf7ta4uaD"
      },
      "source": [
        "db = client[dbname]\n",
        "jobs_list_collection = db.job_list"
      ],
      "execution_count": 190,
      "outputs": []
    },
    {
      "cell_type": "markdown",
      "metadata": {
        "id": "LWZNCBAN5wOy"
      },
      "source": [
        "### Insert data"
      ]
    },
    {
      "cell_type": "markdown",
      "metadata": {
        "id": "_T0FF3Riepu1"
      },
      "source": [
        "Use **insert_many** if collectino is empty, otherwise use **update_one** with *upsert=True*."
      ]
    },
    {
      "cell_type": "code",
      "metadata": {
        "id": "tQEH8Q_e5yU-"
      },
      "source": [
        "if jobs_list_collection.count_documents({}) == 0:\n",
        "  jobs_list_collection.insert_many(fullJobsList)\n",
        "else:\n",
        "  for job in fullJobsList:\n",
        "    query = {\n",
        "        'link': job['link']\n",
        "    }\n",
        "\n",
        "    update = {\n",
        "        '$set': { \n",
        "            'title': job['title'],\n",
        "            'link': job['link'],\n",
        "            'minCompensation': job['minCompensation'],\n",
        "            'maxCompensation': job['maxCompensation'],\n",
        "            'compensationCurrency': job['compensationCurrency']\n",
        "        }\n",
        "    }\n",
        "\n",
        "    jobs_list_collection.update_one(query, update, upsert=True)"
      ],
      "execution_count": 194,
      "outputs": []
    },
    {
      "cell_type": "markdown",
      "metadata": {
        "id": "RqCoXY-76wvG"
      },
      "source": [
        "### Make a filtering request"
      ]
    },
    {
      "cell_type": "code",
      "metadata": {
        "colab": {
          "base_uri": "https://localhost:8080/"
        },
        "id": "rUDCyQOY62td",
        "outputId": "d6c71079-320f-44af-cfc4-f5ad8e19ab3d"
      },
      "source": [
        "minimumSalary = input('Enter minimum salary: ')"
      ],
      "execution_count": 192,
      "outputs": [
        {
          "output_type": "stream",
          "text": [
            "Enter minimum salary: 100000\n"
          ],
          "name": "stdout"
        }
      ]
    },
    {
      "cell_type": "code",
      "metadata": {
        "colab": {
          "base_uri": "https://localhost:8080/"
        },
        "id": "oMJaYc9w7QJ8",
        "outputId": "21a2be99-b79a-4ab4-c408-54e38a004349"
      },
      "source": [
        "minimumSalaryJobs = jobs_list_collection.find({'minCompensation': {'$gt': int(minimumSalary)}})\n",
        "list(minimumSalaryJobs)"
      ],
      "execution_count": 193,
      "outputs": [
        {
          "output_type": "execute_result",
          "data": {
            "text/plain": [
              "[{'_id': ObjectId('61108180b6cd48055041f330'),\n",
              "  'compensationCurrency': 'руб.',\n",
              "  'link': 'https://hh.ru/vacancy/46149829?from=vacancy_search_list&query=scala%20js',\n",
              "  'maxCompensation': None,\n",
              "  'minCompensation': 150000,\n",
              "  'title': 'QA engineer (mobile)'},\n",
              " {'_id': ObjectId('61108180b6cd48055041f331'),\n",
              "  'compensationCurrency': 'руб.',\n",
              "  'link': 'https://hh.ru/vacancy/46816670?from=vacancy_search_list&query=scala%20js',\n",
              "  'maxCompensation': None,\n",
              "  'minCompensation': 150000,\n",
              "  'title': 'Senior PHP developer'},\n",
              " {'_id': ObjectId('61108180b6cd48055041f336'),\n",
              "  'compensationCurrency': 'руб.',\n",
              "  'link': 'https://hh.ru/vacancy/46823836?from=vacancy_search_list&query=scala%20js',\n",
              "  'maxCompensation': 160000,\n",
              "  'minCompensation': 120000,\n",
              "  'title': 'Data Engineer Middle'}]"
            ]
          },
          "metadata": {
            "tags": []
          },
          "execution_count": 193
        }
      ]
    }
  ]
}