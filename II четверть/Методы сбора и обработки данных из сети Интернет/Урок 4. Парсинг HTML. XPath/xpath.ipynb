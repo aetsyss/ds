{
  "nbformat": 4,
  "nbformat_minor": 0,
  "metadata": {
    "colab": {
      "name": "xpath.ipynb",
      "provenance": []
    },
    "kernelspec": {
      "name": "python3",
      "display_name": "Python 3"
    },
    "language_info": {
      "name": "python"
    }
  },
  "cells": [
    {
      "cell_type": "markdown",
      "metadata": {
        "id": "9Sjo96jVBReN"
      },
      "source": [
        "# Урок 4. Парсинг HTML. XPath"
      ]
    },
    {
      "cell_type": "markdown",
      "metadata": {
        "id": "BAy0ogmUBX1S"
      },
      "source": [
        "Написать приложение, которое собирает основные новости с сайта на выбор news.mail.ru, lenta.ru, yandex-новости. \n",
        "\n",
        "Для парсинга использовать XPath. \n",
        "\n",
        "Структура данных должна содержать:\n",
        "название источника;\n",
        "наименование новости;\n",
        "ссылку на новость;\n",
        "дата публикации."
      ]
    },
    {
      "cell_type": "markdown",
      "metadata": {
        "id": "GIwmDVi8G2y2"
      },
      "source": [
        "### Get news data"
      ]
    },
    {
      "cell_type": "code",
      "metadata": {
        "id": "iFU86fmDBOGG"
      },
      "source": [
        "from lxml import html\n",
        "import requests"
      ],
      "execution_count": 12,
      "outputs": []
    },
    {
      "cell_type": "code",
      "metadata": {
        "id": "JgR0D5K7BqYS"
      },
      "source": [
        "headers = {\n",
        "    'User-Agent': 'Mozilla/5.0 (Macintosh; Intel Mac OS X 10_15_7) AppleWebKit/537.36 (KHTML, like Gecko) Chrome/92.0.4515.131 Safari/537.36'\n",
        "}\n",
        "\n",
        "url = 'https://lenta.ru/'\n",
        "\n",
        "response = requests.get(url, headers=headers)"
      ],
      "execution_count": 13,
      "outputs": []
    },
    {
      "cell_type": "code",
      "metadata": {
        "id": "TzouXX-gCJSs"
      },
      "source": [
        "dom = html.fromstring(response.text)\n",
        "\n",
        "news = dom.xpath('//div[@class=\"span8 js-main__content\"]//div[@class=\"item\"]')\n",
        "news_list = []\n",
        "\n",
        "for item in news:\n",
        "  item_data = {}\n",
        "\n",
        "  name = item.xpath('.//a/text()')\n",
        "  link = item.xpath('.//a/@href')\n",
        "  time = item.xpath('.//a/time/@datetime')\n",
        "\n",
        "  item_data['source'] = 'https://lenta.ru/'\n",
        "  item_data['name'] = name[0]\n",
        "  item_data['link'] = link[0]\n",
        "  item_data['time'] = time[0]\n",
        "\n",
        "  news_list.append(item_data)"
      ],
      "execution_count": 14,
      "outputs": []
    },
    {
      "cell_type": "code",
      "metadata": {
        "colab": {
          "base_uri": "https://localhost:8080/",
          "height": 328
        },
        "id": "RddgbSRPFpgH",
        "outputId": "dab087e5-02f1-4d06-cd93-82a6f627bc7f"
      },
      "source": [
        "import pandas as pd\n",
        "df = pd.DataFrame(news_list)\n",
        "df"
      ],
      "execution_count": 15,
      "outputs": [
        {
          "output_type": "execute_result",
          "data": {
            "text/html": [
              "<div>\n",
              "<style scoped>\n",
              "    .dataframe tbody tr th:only-of-type {\n",
              "        vertical-align: middle;\n",
              "    }\n",
              "\n",
              "    .dataframe tbody tr th {\n",
              "        vertical-align: top;\n",
              "    }\n",
              "\n",
              "    .dataframe thead th {\n",
              "        text-align: right;\n",
              "    }\n",
              "</style>\n",
              "<table border=\"1\" class=\"dataframe\">\n",
              "  <thead>\n",
              "    <tr style=\"text-align: right;\">\n",
              "      <th></th>\n",
              "      <th>source</th>\n",
              "      <th>name</th>\n",
              "      <th>link</th>\n",
              "      <th>time</th>\n",
              "    </tr>\n",
              "  </thead>\n",
              "  <tbody>\n",
              "    <tr>\n",
              "      <th>0</th>\n",
              "      <td>https://lenta.ru/</td>\n",
              "      <td>Смертельная перестрелка произошла в британском...</td>\n",
              "      <td>/news/2021/08/12/plimuth/</td>\n",
              "      <td>23:31, 12 августа 2021</td>\n",
              "    </tr>\n",
              "    <tr>\n",
              "      <th>1</th>\n",
              "      <td>https://lenta.ru/</td>\n",
              "      <td>На Украине прокомментировали заявление России ...</td>\n",
              "      <td>/news/2021/08/12/nikolenko/</td>\n",
              "      <td>23:25, 12 августа 2021</td>\n",
              "    </tr>\n",
              "    <tr>\n",
              "      <th>2</th>\n",
              "      <td>https://lenta.ru/</td>\n",
              "      <td>Очевидцы взрыва автобуса в Воронеже рассказали...</td>\n",
              "      <td>/news/2021/08/12/ochevidcy/</td>\n",
              "      <td>23:09, 12 августа 2021</td>\n",
              "    </tr>\n",
              "    <tr>\n",
              "      <th>3</th>\n",
              "      <td>https://lenta.ru/</td>\n",
              "      <td>Появилось видео момента взрыва автобуса в Воро...</td>\n",
              "      <td>/news/2021/08/12/vzr_vid/</td>\n",
              "      <td>23:04, 12 августа 2021</td>\n",
              "    </tr>\n",
              "    <tr>\n",
              "      <th>4</th>\n",
              "      <td>https://lenta.ru/</td>\n",
              "      <td>Названа возможная зарплата самого дорогого игр...</td>\n",
              "      <td>/news/2021/08/12/footmoney/</td>\n",
              "      <td>22:56, 12 августа 2021</td>\n",
              "    </tr>\n",
              "    <tr>\n",
              "      <th>5</th>\n",
              "      <td>https://lenta.ru/</td>\n",
              "      <td>Водитель взорвавшегося в Воронеже автобуса рас...</td>\n",
              "      <td>/news/2021/08/12/voditell/</td>\n",
              "      <td>22:46, 12 августа 2021</td>\n",
              "    </tr>\n",
              "    <tr>\n",
              "      <th>6</th>\n",
              "      <td>https://lenta.ru/</td>\n",
              "      <td>Названа возможная причина взрыва автобуса в Во...</td>\n",
              "      <td>/news/2021/08/12/avtobus/</td>\n",
              "      <td>22:28, 12 августа 2021</td>\n",
              "    </tr>\n",
              "    <tr>\n",
              "      <th>7</th>\n",
              "      <td>https://lenta.ru/</td>\n",
              "      <td>У коронавируса обнаружили «ахиллесову пяту»</td>\n",
              "      <td>/news/2021/08/12/achilles/</td>\n",
              "      <td>22:08, 12 августа 2021</td>\n",
              "    </tr>\n",
              "    <tr>\n",
              "      <th>8</th>\n",
              "      <td>https://lenta.ru/</td>\n",
              "      <td>В Воронеже взорвался автобус</td>\n",
              "      <td>/news/2021/08/12/auto/</td>\n",
              "      <td>21:49, 12 августа 2021</td>\n",
              "    </tr>\n",
              "  </tbody>\n",
              "</table>\n",
              "</div>"
            ],
            "text/plain": [
              "              source  ...                     time\n",
              "0  https://lenta.ru/  ...   23:31, 12 августа 2021\n",
              "1  https://lenta.ru/  ...   23:25, 12 августа 2021\n",
              "2  https://lenta.ru/  ...   23:09, 12 августа 2021\n",
              "3  https://lenta.ru/  ...   23:04, 12 августа 2021\n",
              "4  https://lenta.ru/  ...   22:56, 12 августа 2021\n",
              "5  https://lenta.ru/  ...   22:46, 12 августа 2021\n",
              "6  https://lenta.ru/  ...   22:28, 12 августа 2021\n",
              "7  https://lenta.ru/  ...   22:08, 12 августа 2021\n",
              "8  https://lenta.ru/  ...   21:49, 12 августа 2021\n",
              "\n",
              "[9 rows x 4 columns]"
            ]
          },
          "metadata": {
            "tags": []
          },
          "execution_count": 15
        }
      ]
    },
    {
      "cell_type": "markdown",
      "metadata": {
        "id": "8HUtQiavF2T3"
      },
      "source": [
        "### Сложить собранные данные в БД"
      ]
    },
    {
      "cell_type": "code",
      "metadata": {
        "colab": {
          "base_uri": "https://localhost:8080/"
        },
        "id": "eZMhoogjGFhH",
        "outputId": "d199678f-9187-4e69-fc21-1f3c69a56b94"
      },
      "source": [
        "! pip3 install pymongo[srv]"
      ],
      "execution_count": 16,
      "outputs": [
        {
          "output_type": "stream",
          "text": [
            "Requirement already satisfied: pymongo[srv] in /usr/local/lib/python3.7/dist-packages (3.11.4)\n",
            "Requirement already satisfied: dnspython<2.0.0,>=1.16.0 in /usr/local/lib/python3.7/dist-packages (from pymongo[srv]) (1.16.0)\n"
          ],
          "name": "stdout"
        }
      ]
    },
    {
      "cell_type": "code",
      "metadata": {
        "id": "CFWS_aU1GACN"
      },
      "source": [
        "from pymongo import MongoClient"
      ],
      "execution_count": 17,
      "outputs": []
    },
    {
      "cell_type": "code",
      "metadata": {
        "id": "yLVruBmhGA2U"
      },
      "source": [
        "usr = 'db_user'\n",
        "pwd = 'mOS9LygLPkiXsliW'\n",
        "dbname = 'ds_course'\n",
        "\n",
        "url = 'mongodb+srv://' + usr + ':' + pwd + '@myfreecluster.sns97.mongodb.net/' + dbname + '?retryWrites=true&w=majority'\n",
        "\n",
        "client = MongoClient(url)"
      ],
      "execution_count": 18,
      "outputs": []
    },
    {
      "cell_type": "code",
      "metadata": {
        "id": "-p5ScjiHGC0g"
      },
      "source": [
        "db = client[dbname]\n",
        "news_collection = db.news"
      ],
      "execution_count": 19,
      "outputs": []
    },
    {
      "cell_type": "code",
      "metadata": {
        "id": "oTL265fkGPIJ"
      },
      "source": [
        "if news_collection.count_documents({}) == 0:\n",
        "  jobs_list_collection.insert_many(news_list)\n",
        "else:\n",
        "  for item in news_list:\n",
        "    query = {\n",
        "        'link': item['link']\n",
        "    }\n",
        "\n",
        "    update = {\n",
        "        '$set': item\n",
        "    }\n",
        "\n",
        "    news_collection.update_one(query, update, upsert=True)"
      ],
      "execution_count": 20,
      "outputs": []
    }
  ]
}