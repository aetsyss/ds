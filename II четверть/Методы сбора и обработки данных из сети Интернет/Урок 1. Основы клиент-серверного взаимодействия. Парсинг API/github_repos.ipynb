{
  "nbformat": 4,
  "nbformat_minor": 0,
  "metadata": {
    "colab": {
      "name": "github_repos.ipynb",
      "provenance": []
    },
    "kernelspec": {
      "name": "python3",
      "display_name": "Python 3"
    },
    "language_info": {
      "name": "python"
    }
  },
  "cells": [
    {
      "cell_type": "markdown",
      "metadata": {
        "id": "PdYKH0HT9kma"
      },
      "source": [
        "# Урок 1. Основы клиент-серверного взаимодействия. Парсинг API"
      ]
    },
    {
      "cell_type": "markdown",
      "metadata": {
        "id": "8xPjVs5X9rtX"
      },
      "source": [
        "### Посмотреть документацию к API GitHub"
      ]
    },
    {
      "cell_type": "code",
      "metadata": {
        "id": "8HRG3gD1-TxX"
      },
      "source": [
        "import requests\n",
        "\n",
        "user = 'aetsyss'\n",
        "url = 'https://api.github.com/users/' + user + '/repos'\n",
        "\n",
        "response = requests.get(url)\n",
        "json = response.json()"
      ],
      "execution_count": 18,
      "outputs": []
    },
    {
      "cell_type": "markdown",
      "metadata": {
        "id": "v5VdKOGp91WU"
      },
      "source": [
        "### Разобраться как вывести список репозиториев для конкретного пользователя"
      ]
    },
    {
      "cell_type": "code",
      "metadata": {
        "colab": {
          "base_uri": "https://localhost:8080/"
        },
        "id": "13CcYSSS9A3a",
        "outputId": "6268a09a-c19e-4735-f214-37a264a26061"
      },
      "source": [
        "list(map(lambda x : x['full_name'], json))"
      ],
      "execution_count": 20,
      "outputs": [
        {
          "output_type": "execute_result",
          "data": {
            "text/plain": [
              "['aetsyss/aetsyss.github.io',\n",
              " 'aetsyss/Algorithms',\n",
              " 'aetsyss/Async',\n",
              " 'aetsyss/Cache',\n",
              " 'aetsyss/CocOAuth',\n",
              " 'aetsyss/ds',\n",
              " 'aetsyss/input-mask-ios',\n",
              " 'aetsyss/Navigation',\n",
              " 'aetsyss/protobuf-objc',\n",
              " 'aetsyss/Skeleton',\n",
              " 'aetsyss/SwiftExceptionCatcher',\n",
              " 'aetsyss/TableViewImageLoading']"
            ]
          },
          "metadata": {
            "tags": []
          },
          "execution_count": 20
        }
      ]
    },
    {
      "cell_type": "markdown",
      "metadata": {
        "id": "1u_pBR2B97mM"
      },
      "source": [
        "### Сохранить JSON-вывод в файле *.json"
      ]
    },
    {
      "cell_type": "code",
      "metadata": {
        "id": "45Sg7pEp9-dK"
      },
      "source": [
        "with open('outputfile.json', 'wb') as f:\n",
        "    f.write(response.content)"
      ],
      "execution_count": 26,
      "outputs": []
    }
  ]
}